{
 "cells": [
  {
   "cell_type": "code",
   "execution_count": 2,
   "id": "ea0363d5",
   "metadata": {},
   "outputs": [
    {
     "data": {
      "text/plain": [
       "(200,)"
      ]
     },
     "execution_count": 2,
     "metadata": {},
     "output_type": "execute_result"
    }
   ],
   "source": [
    "# tuple\n",
    "(404,\"沒有網頁\")\n",
    "404,\"沒有網頁\"\n",
    "\n",
    "(200,)"
   ]
  },
  {
   "cell_type": "code",
   "execution_count": 3,
   "id": "e3098f05",
   "metadata": {},
   "outputs": [
    {
     "data": {
      "text/plain": [
       "(200, '正常')"
      ]
     },
     "execution_count": 3,
     "metadata": {},
     "output_type": "execute_result"
    }
   ],
   "source": [
    "# tuple常用的操作模式\n",
    "\n",
    "code, status = 200, \"正常\"\n",
    "code, status"
   ]
  },
  {
   "cell_type": "code",
   "execution_count": 5,
   "id": "08fb5e66",
   "metadata": {},
   "outputs": [
    {
     "data": {
      "text/plain": [
       "['a', 'b', 'c']"
      ]
     },
     "execution_count": 5,
     "metadata": {},
     "output_type": "execute_result"
    }
   ],
   "source": [
    "# list\n",
    "empty_list = []\n",
    "numbers = [1, 2, 3, 4, 5]\n",
    "mixed_data = [1, \"Python\", 3.14, True]\n",
    "\n",
    "#使用list()函數\n",
    "another_empty_list = list()\n",
    "string_to_list = list(\"Python\")\n",
    "ramge_to_list = list(range(1,6))\n",
    "tuple_to_list = list(('a', 'b', 'c'))\n",
    "tuple_to_list"
   ]
  },
  {
   "cell_type": "code",
   "execution_count": null,
   "id": "5fde789f",
   "metadata": {},
   "outputs": [],
   "source": [
    "\n",
    "#索引(index) 和 切片(slice)\n",
    "\n",
    "cities = ['台北', '台中', '高雄', '台南']\n",
    "\n",
    "cities[0]\n",
    "cities[1]\n",
    "\n",
    "cities[-1]\n",
    "cities[-2]"
   ]
  },
  {
   "cell_type": "code",
   "execution_count": null,
   "id": "cb473dbc",
   "metadata": {},
   "outputs": [],
   "source": [
    "\n",
    "#slice\n",
    "data = ['H', 'e', 'l', 'l', 'o', 'W', 'o', 'r', 'l', 'd']\n",
    "data[0:5]\n",
    "data[:5]\n",
    "data[-5:-1]\n",
    "data[-5:]"
   ]
  },
  {
   "cell_type": "code",
   "execution_count": 6,
   "id": "4a05db52",
   "metadata": {},
   "outputs": [
    {
     "name": "stdout",
     "output_type": "stream",
     "text": [
      "<class 'list'>\n"
     ]
    },
    {
     "data": {
      "text/plain": [
       "['apple', 'mango', 'banana', 'orange', 'grape', 'kiwi']"
      ]
     },
     "execution_count": 6,
     "metadata": {},
     "output_type": "execute_result"
    }
   ],
   "source": [
    "from typing import List,Dict,Any\n",
    "\n",
    "fruits:List = ['apple', 'banana']\n",
    "print (type(fruits))\n",
    "fruits.append('orange')\n",
    "fruits\n",
    "fruits.extend(['grape', 'kiwi'])\n",
    "fruits\n",
    "fruits.insert(1, 'mango')\n",
    "fruits"
   ]
  }
 ],
 "metadata": {
  "kernelspec": {
   "display_name": "base",
   "language": "python",
   "name": "python3"
  },
  "language_info": {
   "codemirror_mode": {
    "name": "ipython",
    "version": 3
   },
   "file_extension": ".py",
   "mimetype": "text/x-python",
   "name": "python",
   "nbconvert_exporter": "python",
   "pygments_lexer": "ipython3",
   "version": "3.13.2"
  }
 },
 "nbformat": 4,
 "nbformat_minor": 5
}
