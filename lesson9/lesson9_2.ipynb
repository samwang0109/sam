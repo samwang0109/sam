{
 "cells": [
  {
   "cell_type": "code",
   "execution_count": 2,
   "id": "ea0363d5",
   "metadata": {},
   "outputs": [
    {
     "data": {
      "text/plain": [
       "(200,)"
      ]
     },
     "execution_count": 2,
     "metadata": {},
     "output_type": "execute_result"
    }
   ],
   "source": [
    "# tuple\n",
    "(404,\"沒有網頁\")\n",
    "404,\"沒有網頁\"\n",
    "\n",
    "(200,)"
   ]
  },
  {
   "cell_type": "code",
   "execution_count": 3,
   "id": "e3098f05",
   "metadata": {},
   "outputs": [
    {
     "data": {
      "text/plain": [
       "(200, '正常')"
      ]
     },
     "execution_count": 3,
     "metadata": {},
     "output_type": "execute_result"
    }
   ],
   "source": [
    "# tuple常用的操作模式\n",
    "\n",
    "code, status = 200, \"正常\"\n",
    "code, status"
   ]
  },
  {
   "cell_type": "code",
   "execution_count": 5,
   "id": "08fb5e66",
   "metadata": {},
   "outputs": [
    {
     "data": {
      "text/plain": [
       "['a', 'b', 'c']"
      ]
     },
     "execution_count": 5,
     "metadata": {},
     "output_type": "execute_result"
    }
   ],
   "source": [
    "# list\n",
    "empty_list = []\n",
    "numbers = [1, 2, 3, 4, 5]\n",
    "mixed_data = [1, \"Python\", 3.14, True]\n",
    "\n",
    "#使用list()函數\n",
    "another_empty_list = list()\n",
    "string_to_list = list(\"Python\")\n",
    "ramge_to_list = list(range(1,6))\n",
    "tuple_to_list = list(('a', 'b', 'c'))\n",
    "tuple_to_list"
   ]
  }
 ],
 "metadata": {
  "kernelspec": {
   "display_name": "base",
   "language": "python",
   "name": "python3"
  },
  "language_info": {
   "codemirror_mode": {
    "name": "ipython",
    "version": 3
   },
   "file_extension": ".py",
   "mimetype": "text/x-python",
   "name": "python",
   "nbconvert_exporter": "python",
   "pygments_lexer": "ipython3",
   "version": "3.13.2"
  }
 },
 "nbformat": 4,
 "nbformat_minor": 5
}
