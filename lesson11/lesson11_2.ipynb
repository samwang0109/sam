{
 "cells": [
  {
   "cell_type": "code",
   "execution_count": 1,
   "id": "9ea9402d",
   "metadata": {},
   "outputs": [
    {
     "name": "stdout",
     "output_type": "stream",
     "text": [
      "<class 'list'>\n"
     ]
    }
   ],
   "source": [
    "fruits:list = ['apple', 'banana']\n",
    "print(type(fruits))"
   ]
  },
  {
   "cell_type": "code",
   "execution_count": 5,
   "id": "1883a098",
   "metadata": {},
   "outputs": [],
   "source": [
    "#定義class\n",
    "class Person():\n",
    "    pass"
   ]
  },
  {
   "cell_type": "code",
   "execution_count": 6,
   "id": "61cf6cec",
   "metadata": {},
   "outputs": [
    {
     "name": "stdout",
     "output_type": "stream",
     "text": [
      "<class '__main__.Person'>\n",
      "<class '__main__.Person'>\n"
     ]
    }
   ],
   "source": [
    "#使用預設的初始化建立Person的實體\n",
    "p1 = Person()\n",
    "print(type(p1))\n",
    "\n",
    "p2 = Person()\n",
    "print(type(p2))"
   ]
  },
  {
   "cell_type": "code",
   "execution_count": null,
   "id": "34391fcc",
   "metadata": {},
   "outputs": [],
   "source": [
    "#python是動態型別,可以動態產生attribute\n",
    "#一般我們不會使用動態attribute\n",
    "p1.name = \"robert\"\n",
    "print(p1.name)\n",
    "\n",
    "print(p2.name)"
   ]
  },
  {
   "cell_type": "code",
   "execution_count": null,
   "id": "6288b3d0",
   "metadata": {},
   "outputs": [],
   "source": [
    "#定義class\n",
    "#自訂__init__(self)\n",
    "#只有自訂init,才可以自訂attribute\n",
    "class Person():\n",
    "    def __init__(self,name:str): #自訂init\n",
    "        self.name = name #建立一個attribute, #在class裡面,要建立attribute,一定要有self"
   ]
  },
  {
   "cell_type": "code",
   "execution_count": 14,
   "id": "4a9a38fd",
   "metadata": {},
   "outputs": [
    {
     "name": "stdout",
     "output_type": "stream",
     "text": [
      "robert\n",
      "jenny\n"
     ]
    }
   ],
   "source": [
    "p1 = Person(\"robert\")\n",
    "print(p1.name)#在class外面,要改變或取出attribute一定要用實體名稱\n",
    "\n",
    "p2 = Person(\"jenny\")\n",
    "print(p2.name)"
   ]
  },
  {
   "cell_type": "code",
   "execution_count": null,
   "id": "de3afa6e",
   "metadata": {},
   "outputs": [],
   "source": [
    "#定義class\n",
    "class Person():\n",
    "    count = 0 #class attribute\n",
    "    #class method\n",
    "    @classmethod\n",
    "    def commercial(cls):\n",
    "        cls.count += 1\n",
    "\n",
    "    @staticmethod\n",
    "    def say_hello():\n",
    "        print(\"Hello! world!\")"
   ]
  },
  {
   "cell_type": "code",
   "execution_count": 104,
   "id": "1bef20aa",
   "metadata": {},
   "outputs": [
    {
     "data": {
      "text/plain": [
       "4"
      ]
     },
     "execution_count": 104,
     "metadata": {},
     "output_type": "execute_result"
    }
   ],
   "source": [
    "Person.count\n",
    "Person.commercial()\n",
    "Person.count\n",
    "Person.commercial()\n",
    "Person.count"
   ]
  },
  {
   "cell_type": "code",
   "execution_count": 105,
   "id": "1ec20e83",
   "metadata": {},
   "outputs": [
    {
     "name": "stdout",
     "output_type": "stream",
     "text": [
      "Hello! world!\n"
     ]
    }
   ],
   "source": [
    "Person.say_hello()"
   ]
  }
 ],
 "metadata": {
  "kernelspec": {
   "display_name": "base",
   "language": "python",
   "name": "python3"
  },
  "language_info": {
   "codemirror_mode": {
    "name": "ipython",
    "version": 3
   },
   "file_extension": ".py",
   "mimetype": "text/x-python",
   "name": "python",
   "nbconvert_exporter": "python",
   "pygments_lexer": "ipython3",
   "version": "3.13.2"
  }
 },
 "nbformat": 4,
 "nbformat_minor": 5
}
