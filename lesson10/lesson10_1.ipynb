{
 "cells": [
  {
   "cell_type": "code",
   "execution_count": 3,
   "id": "d463ff85",
   "metadata": {},
   "outputs": [
    {
     "data": {
      "text/plain": [
       "{'name': 'robert', 'play_times': 5, 'roler': 'hoster'}"
      ]
     },
     "execution_count": 3,
     "metadata": {},
     "output_type": "execute_result"
    }
   ],
   "source": [
    "#dict,詞典物件\n",
    "player1 = {\"name\":\"robert\",\n",
    "           \"play_times\":5,\n",
    "           \"roler\":\"hoster\"}\n",
    "\n",
    "player1"
   ]
  },
  {
   "cell_type": "code",
   "execution_count": 4,
   "id": "04fec69b",
   "metadata": {},
   "outputs": [
    {
     "data": {
      "text/plain": [
       "{'name': 'jenny', 'play_times': 6, 'roler': 'challenger'}"
      ]
     },
     "execution_count": 4,
     "metadata": {},
     "output_type": "execute_result"
    }
   ],
   "source": [
    "player2 = {}\n",
    "player2[\"name\"] = \"jenny\"\n",
    "player2[\"play_times\"] = 6\n",
    "player2[\"roler\"] = \"challenger\"\n",
    "\n",
    "player2"
   ]
  },
  {
   "cell_type": "code",
   "execution_count": 5,
   "id": "3df99312",
   "metadata": {},
   "outputs": [
    {
     "data": {
      "text/plain": [
       "('robert', 'jenny')"
      ]
     },
     "execution_count": 5,
     "metadata": {},
     "output_type": "execute_result"
    }
   ],
   "source": [
    "player1[\"name\"],player2[\"name\"]"
   ]
  },
  {
   "cell_type": "code",
   "execution_count": 6,
   "id": "06cb6fa1",
   "metadata": {},
   "outputs": [
    {
     "data": {
      "text/plain": [
       "[{'name': 'robert', 'play_times': 5, 'roler': 'hoster'},\n",
       " {'name': 'jenny', 'play_times': 6, 'roler': 'challenger'}]"
      ]
     },
     "execution_count": 6,
     "metadata": {},
     "output_type": "execute_result"
    }
   ],
   "source": [
    "players = [player1, player2]\n",
    "players"
   ]
  }
 ],
 "metadata": {
  "kernelspec": {
   "display_name": "base",
   "language": "python",
   "name": "python3"
  },
  "language_info": {
   "codemirror_mode": {
    "name": "ipython",
    "version": 3
   },
   "file_extension": ".py",
   "mimetype": "text/x-python",
   "name": "python",
   "nbconvert_exporter": "python",
   "pygments_lexer": "ipython3",
   "version": "3.13.2"
  }
 },
 "nbformat": 4,
 "nbformat_minor": 5
}
