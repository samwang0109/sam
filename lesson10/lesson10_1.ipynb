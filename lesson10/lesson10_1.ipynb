{
 "cells": [
  {
   "cell_type": "code",
   "execution_count": null,
   "id": "d463ff85",
   "metadata": {},
   "outputs": [
    {
     "data": {
      "text/plain": [
       "{'name': 'robert', 'play_times': 5, 'roler': 'hoster'}"
      ]
     },
     "execution_count": 3,
     "metadata": {},
     "output_type": "execute_result"
    }
   ],
   "source": [
    "#dict,詞典物件\n",
    "player1:dict = {\"name\":\"robert\",\n",
    "           \"play_times\":5,\n",
    "           \"roler\":\"hoster\"}\n",
    "\n",
    "player1"
   ]
  },
  {
   "cell_type": "code",
   "execution_count": 4,
   "id": "04fec69b",
   "metadata": {},
   "outputs": [
    {
     "data": {
      "text/plain": [
       "{'name': 'jenny', 'play_times': 6, 'roler': 'challenger'}"
      ]
     },
     "execution_count": 4,
     "metadata": {},
     "output_type": "execute_result"
    }
   ],
   "source": [
    "player2 = {}\n",
    "player2[\"name\"] = \"jenny\"\n",
    "player2[\"play_times\"] = 6\n",
    "player2[\"roler\"] = \"challenger\"\n",
    "\n",
    "player2"
   ]
  },
  {
   "cell_type": "code",
   "execution_count": 5,
   "id": "3df99312",
   "metadata": {},
   "outputs": [
    {
     "data": {
      "text/plain": [
       "('robert', 'jenny')"
      ]
     },
     "execution_count": 5,
     "metadata": {},
     "output_type": "execute_result"
    }
   ],
   "source": [
    "player1[\"name\"],player2[\"name\"]"
   ]
  },
  {
   "cell_type": "code",
   "execution_count": null,
   "id": "06cb6fa1",
   "metadata": {},
   "outputs": [
    {
     "data": {
      "text/plain": [
       "[{'name': 'robert', 'play_times': 5, 'roler': 'hoster'},\n",
       " {'name': 'jenny', 'play_times': 6, 'roler': 'challenger'}]"
      ]
     },
     "execution_count": 6,
     "metadata": {},
     "output_type": "execute_result"
    }
   ],
   "source": [
    "players:list = [player1, player2]\n",
    "players"
   ]
  },
  {
   "cell_type": "code",
   "execution_count": null,
   "id": "844f6774",
   "metadata": {},
   "outputs": [
    {
     "data": {
      "text/plain": [
       "3"
      ]
     },
     "execution_count": 10,
     "metadata": {},
     "output_type": "execute_result"
    }
   ],
   "source": [
    "#len(),查詢元素的數量\n",
    "len(players)\n",
    "len(player1)\n",
    "len(player2)"
   ]
  },
  {
   "cell_type": "code",
   "execution_count": null,
   "id": "8da5b86a",
   "metadata": {},
   "outputs": [
    {
     "name": "stdout",
     "output_type": "stream",
     "text": [
      "{'name': 'robert', 'play_times': 5, 'roler': 'hoster'}\n",
      "{'name': 'jenny', 'play_times': 6, 'roler': 'challenger'}\n"
     ]
    }
   ],
   "source": [
    "#list資料類型\n",
    "#for..in..取出所有元素\n",
    "for player in players:\n",
    "    print(player)"
   ]
  },
  {
   "cell_type": "code",
   "execution_count": 13,
   "id": "2092f438",
   "metadata": {},
   "outputs": [
    {
     "name": "stdout",
     "output_type": "stream",
     "text": [
      "key:name\n",
      "value:robert\n",
      "key:play_times\n",
      "value:5\n",
      "key:roler\n",
      "value:hoster\n",
      "=======\n",
      "key:name\n",
      "value:jenny\n",
      "key:play_times\n",
      "value:6\n",
      "key:roler\n",
      "value:challenger\n"
     ]
    }
   ],
   "source": [
    "#dict資料類型\n",
    "#dict使用for...in\n",
    "\n",
    "for key in player1: #取出key\n",
    "    print(f\"key:{key}\")\n",
    "    print(f\"value:{player1[key]}\")\n",
    "\n",
    "print(\"=======\")\n",
    "\n",
    "for key in player2:\n",
    "    print(f\"key:{key}\")\n",
    "    print(f\"value:{player2.get(key)}\")"
   ]
  }
 ],
 "metadata": {
  "kernelspec": {
   "display_name": "base",
   "language": "python",
   "name": "python3"
  },
  "language_info": {
   "codemirror_mode": {
    "name": "ipython",
    "version": 3
   },
   "file_extension": ".py",
   "mimetype": "text/x-python",
   "name": "python",
   "nbconvert_exporter": "python",
   "pygments_lexer": "ipython3",
   "version": "3.13.2"
  }
 },
 "nbformat": 4,
 "nbformat_minor": 5
}
